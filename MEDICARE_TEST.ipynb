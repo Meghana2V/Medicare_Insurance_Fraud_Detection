{
 "cells": [
  {
   "cell_type": "code",
   "execution_count": 1,
   "metadata": {},
   "outputs": [],
   "source": [
    "import numpy as np\n",
    "import pandas as pd\n",
    "import os"
   ]
  },
  {
   "cell_type": "code",
   "execution_count": 2,
   "metadata": {},
   "outputs": [
    {
     "data": {
      "text/plain": [
       "(5410, 158)"
      ]
     },
     "execution_count": 2,
     "metadata": {},
     "output_type": "execute_result"
    }
   ],
   "source": [
    "medicare_fraud1=pd.read_csv(\"TRAIN2.csv\")\n",
    "medicare_fraud1.shape"
   ]
  },
  {
   "cell_type": "code",
   "execution_count": 3,
   "metadata": {},
   "outputs": [
    {
     "data": {
      "text/html": [
       "<div>\n",
       "<style scoped>\n",
       "    .dataframe tbody tr th:only-of-type {\n",
       "        vertical-align: middle;\n",
       "    }\n",
       "\n",
       "    .dataframe tbody tr th {\n",
       "        vertical-align: top;\n",
       "    }\n",
       "\n",
       "    .dataframe thead th {\n",
       "        text-align: right;\n",
       "    }\n",
       "</style>\n",
       "<table border=\"1\" class=\"dataframe\">\n",
       "  <thead>\n",
       "    <tr style=\"text-align: right;\">\n",
       "      <th></th>\n",
       "      <th>Provider</th>\n",
       "      <th>PotentialFraud</th>\n",
       "      <th>InscClaimAmtReimbursed</th>\n",
       "      <th>DeductibleAmtPaid</th>\n",
       "      <th>AdmitForDays</th>\n",
       "      <th>NoOfMonths_PartACov</th>\n",
       "      <th>NoOfMonths_PartBCov</th>\n",
       "      <th>ChronicCond_Alzheimer</th>\n",
       "      <th>ChronicCond_Heartfailure</th>\n",
       "      <th>ChronicCond_KidneyDisease</th>\n",
       "      <th>...</th>\n",
       "      <th>ClmCount_Provider_BeneID_AttendingPhysician_ClmProcedureCode_1</th>\n",
       "      <th>ClmCount_Provider_BeneID_AttendingPhysician_ClmDiagnosisCode_1</th>\n",
       "      <th>ClmCount_Provider_BeneID_OperatingPhysician</th>\n",
       "      <th>ClmCount_Provider_BeneID_ClmProcedureCode_1</th>\n",
       "      <th>ClmCount_Provider_BeneID_ClmDiagnosisCode_1</th>\n",
       "      <th>ClmCount_Provider_BeneID_ClmDiagnosisCode_1_ClmProcedureCode_1</th>\n",
       "      <th>Gender_2</th>\n",
       "      <th>Race_2</th>\n",
       "      <th>Race_3</th>\n",
       "      <th>Race_5</th>\n",
       "    </tr>\n",
       "  </thead>\n",
       "  <tbody>\n",
       "    <tr>\n",
       "      <th>0</th>\n",
       "      <td>PRV51001</td>\n",
       "      <td>0</td>\n",
       "      <td>104640</td>\n",
       "      <td>5340.0</td>\n",
       "      <td>30.0</td>\n",
       "      <td>300</td>\n",
       "      <td>300</td>\n",
       "      <td>15</td>\n",
       "      <td>19</td>\n",
       "      <td>17</td>\n",
       "      <td>...</td>\n",
       "      <td>2.0</td>\n",
       "      <td>24.0</td>\n",
       "      <td>5.0</td>\n",
       "      <td>2.0</td>\n",
       "      <td>24.0</td>\n",
       "      <td>2.0</td>\n",
       "      <td>16.0</td>\n",
       "      <td>4.0</td>\n",
       "      <td>0.0</td>\n",
       "      <td>0.0</td>\n",
       "    </tr>\n",
       "    <tr>\n",
       "      <th>1</th>\n",
       "      <td>PRV51003</td>\n",
       "      <td>1</td>\n",
       "      <td>605670</td>\n",
       "      <td>66286.0</td>\n",
       "      <td>382.0</td>\n",
       "      <td>1560</td>\n",
       "      <td>1567</td>\n",
       "      <td>56</td>\n",
       "      <td>80</td>\n",
       "      <td>64</td>\n",
       "      <td>...</td>\n",
       "      <td>39.0</td>\n",
       "      <td>132.0</td>\n",
       "      <td>45.0</td>\n",
       "      <td>39.0</td>\n",
       "      <td>132.0</td>\n",
       "      <td>39.0</td>\n",
       "      <td>78.0</td>\n",
       "      <td>24.0</td>\n",
       "      <td>0.0</td>\n",
       "      <td>1.0</td>\n",
       "    </tr>\n",
       "    <tr>\n",
       "      <th>2</th>\n",
       "      <td>PRV51004</td>\n",
       "      <td>0</td>\n",
       "      <td>52170</td>\n",
       "      <td>310.0</td>\n",
       "      <td>0.0</td>\n",
       "      <td>1768</td>\n",
       "      <td>1782</td>\n",
       "      <td>64</td>\n",
       "      <td>88</td>\n",
       "      <td>50</td>\n",
       "      <td>...</td>\n",
       "      <td>0.0</td>\n",
       "      <td>143.0</td>\n",
       "      <td>27.0</td>\n",
       "      <td>0.0</td>\n",
       "      <td>143.0</td>\n",
       "      <td>0.0</td>\n",
       "      <td>103.0</td>\n",
       "      <td>24.0</td>\n",
       "      <td>5.0</td>\n",
       "      <td>0.0</td>\n",
       "    </tr>\n",
       "    <tr>\n",
       "      <th>3</th>\n",
       "      <td>PRV51005</td>\n",
       "      <td>1</td>\n",
       "      <td>280910</td>\n",
       "      <td>3700.0</td>\n",
       "      <td>0.0</td>\n",
       "      <td>13872</td>\n",
       "      <td>13910</td>\n",
       "      <td>426</td>\n",
       "      <td>680</td>\n",
       "      <td>507</td>\n",
       "      <td>...</td>\n",
       "      <td>0.0</td>\n",
       "      <td>1151.0</td>\n",
       "      <td>264.0</td>\n",
       "      <td>0.0</td>\n",
       "      <td>1171.0</td>\n",
       "      <td>0.0</td>\n",
       "      <td>654.0</td>\n",
       "      <td>262.0</td>\n",
       "      <td>10.0</td>\n",
       "      <td>0.0</td>\n",
       "    </tr>\n",
       "    <tr>\n",
       "      <th>4</th>\n",
       "      <td>PRV51007</td>\n",
       "      <td>0</td>\n",
       "      <td>33710</td>\n",
       "      <td>3264.0</td>\n",
       "      <td>19.0</td>\n",
       "      <td>852</td>\n",
       "      <td>852</td>\n",
       "      <td>26</td>\n",
       "      <td>40</td>\n",
       "      <td>22</td>\n",
       "      <td>...</td>\n",
       "      <td>1.0</td>\n",
       "      <td>72.0</td>\n",
       "      <td>12.0</td>\n",
       "      <td>1.0</td>\n",
       "      <td>72.0</td>\n",
       "      <td>1.0</td>\n",
       "      <td>38.0</td>\n",
       "      <td>14.0</td>\n",
       "      <td>0.0</td>\n",
       "      <td>0.0</td>\n",
       "    </tr>\n",
       "  </tbody>\n",
       "</table>\n",
       "<p>5 rows × 158 columns</p>\n",
       "</div>"
      ],
      "text/plain": [
       "   Provider  PotentialFraud  InscClaimAmtReimbursed  DeductibleAmtPaid  \\\n",
       "0  PRV51001               0                  104640             5340.0   \n",
       "1  PRV51003               1                  605670            66286.0   \n",
       "2  PRV51004               0                   52170              310.0   \n",
       "3  PRV51005               1                  280910             3700.0   \n",
       "4  PRV51007               0                   33710             3264.0   \n",
       "\n",
       "   AdmitForDays  NoOfMonths_PartACov  NoOfMonths_PartBCov  \\\n",
       "0          30.0                  300                  300   \n",
       "1         382.0                 1560                 1567   \n",
       "2           0.0                 1768                 1782   \n",
       "3           0.0                13872                13910   \n",
       "4          19.0                  852                  852   \n",
       "\n",
       "   ChronicCond_Alzheimer  ChronicCond_Heartfailure  ChronicCond_KidneyDisease  \\\n",
       "0                     15                        19                         17   \n",
       "1                     56                        80                         64   \n",
       "2                     64                        88                         50   \n",
       "3                    426                       680                        507   \n",
       "4                     26                        40                         22   \n",
       "\n",
       "   ...  ClmCount_Provider_BeneID_AttendingPhysician_ClmProcedureCode_1  \\\n",
       "0  ...                                                2.0                \n",
       "1  ...                                               39.0                \n",
       "2  ...                                                0.0                \n",
       "3  ...                                                0.0                \n",
       "4  ...                                                1.0                \n",
       "\n",
       "   ClmCount_Provider_BeneID_AttendingPhysician_ClmDiagnosisCode_1  \\\n",
       "0                                               24.0                \n",
       "1                                              132.0                \n",
       "2                                              143.0                \n",
       "3                                             1151.0                \n",
       "4                                               72.0                \n",
       "\n",
       "   ClmCount_Provider_BeneID_OperatingPhysician  \\\n",
       "0                                          5.0   \n",
       "1                                         45.0   \n",
       "2                                         27.0   \n",
       "3                                        264.0   \n",
       "4                                         12.0   \n",
       "\n",
       "   ClmCount_Provider_BeneID_ClmProcedureCode_1  \\\n",
       "0                                          2.0   \n",
       "1                                         39.0   \n",
       "2                                          0.0   \n",
       "3                                          0.0   \n",
       "4                                          1.0   \n",
       "\n",
       "   ClmCount_Provider_BeneID_ClmDiagnosisCode_1  \\\n",
       "0                                         24.0   \n",
       "1                                        132.0   \n",
       "2                                        143.0   \n",
       "3                                       1171.0   \n",
       "4                                         72.0   \n",
       "\n",
       "   ClmCount_Provider_BeneID_ClmDiagnosisCode_1_ClmProcedureCode_1  Gender_2  \\\n",
       "0                                                2.0                   16.0   \n",
       "1                                               39.0                   78.0   \n",
       "2                                                0.0                  103.0   \n",
       "3                                                0.0                  654.0   \n",
       "4                                                1.0                   38.0   \n",
       "\n",
       "   Race_2  Race_3  Race_5  \n",
       "0     4.0     0.0     0.0  \n",
       "1    24.0     0.0     1.0  \n",
       "2    24.0     5.0     0.0  \n",
       "3   262.0    10.0     0.0  \n",
       "4    14.0     0.0     0.0  \n",
       "\n",
       "[5 rows x 158 columns]"
      ]
     },
     "execution_count": 3,
     "metadata": {},
     "output_type": "execute_result"
    }
   ],
   "source": [
    "medicare_fraud1.head()"
   ]
  },
  {
   "cell_type": "code",
   "execution_count": 4,
   "metadata": {},
   "outputs": [
    {
     "data": {
      "text/plain": [
       "['Provider',\n",
       " 'PotentialFraud',\n",
       " 'InscClaimAmtReimbursed',\n",
       " 'DeductibleAmtPaid',\n",
       " 'AdmitForDays',\n",
       " 'NoOfMonths_PartACov',\n",
       " 'NoOfMonths_PartBCov',\n",
       " 'ChronicCond_Alzheimer',\n",
       " 'ChronicCond_Heartfailure',\n",
       " 'ChronicCond_KidneyDisease',\n",
       " 'ChronicCond_Cancer',\n",
       " 'ChronicCond_ObstrPulmonary',\n",
       " 'ChronicCond_Depression',\n",
       " 'ChronicCond_Diabetes',\n",
       " 'ChronicCond_IschemicHeart',\n",
       " 'ChronicCond_Osteoporasis',\n",
       " 'ChronicCond_rheumatoidarthritis',\n",
       " 'ChronicCond_stroke',\n",
       " 'IPAnnualReimbursementAmt',\n",
       " 'IPAnnualDeductibleAmt',\n",
       " 'OPAnnualReimbursementAmt',\n",
       " 'OPAnnualDeductibleAmt',\n",
       " 'Age',\n",
       " 'WhetherDead',\n",
       " 'PerProviderAvg_InscClaimAmtReimbursed',\n",
       " 'PerProviderAvg_DeductibleAmtPaid',\n",
       " 'PerProviderAvg_IPAnnualReimbursementAmt',\n",
       " 'PerProviderAvg_IPAnnualDeductibleAmt',\n",
       " 'PerProviderAvg_OPAnnualReimbursementAmt',\n",
       " 'PerProviderAvg_OPAnnualDeductibleAmt',\n",
       " 'PerProviderAvg_Age',\n",
       " 'PerProviderAvg_NoOfMonths_PartACov',\n",
       " 'PerProviderAvg_NoOfMonths_PartBCov',\n",
       " 'PerProviderAvg_AdmitForDays',\n",
       " 'PerBeneIDAvg_InscClaimAmtReimbursed',\n",
       " 'PerBeneIDAvg_DeductibleAmtPaid',\n",
       " 'PerBeneIDAvg_IPAnnualReimbursementAmt',\n",
       " 'PerBeneIDAvg_IPAnnualDeductibleAmt',\n",
       " 'PerBeneIDAvg_OPAnnualReimbursementAmt',\n",
       " 'PerBeneIDAvg_OPAnnualDeductibleAmt',\n",
       " 'PerBeneIDAvg_AdmitForDays',\n",
       " 'PerOtherPhysicianAvg_InscClaimAmtReimbursed',\n",
       " 'PerOtherPhysicianAvg_DeductibleAmtPaid',\n",
       " 'PerOtherPhysicianAvg_IPAnnualReimbursementAmt',\n",
       " 'PerOtherPhysicianAvg_IPAnnualDeductibleAmt',\n",
       " 'PerOtherPhysicianAvg_OPAnnualReimbursementAmt',\n",
       " 'PerOtherPhysicianAvg_OPAnnualDeductibleAmt',\n",
       " 'PerOtherPhysicianAvg_AdmitForDays',\n",
       " 'PerOperatingPhysicianAvg_InscClaimAmtReimbursed',\n",
       " 'PerOperatingPhysicianAvg_DeductibleAmtPaid',\n",
       " 'PerOperatingPhysicianAvg_IPAnnualReimbursementAmt',\n",
       " 'PerOperatingPhysicianAvg_IPAnnualDeductibleAmt',\n",
       " 'PerOperatingPhysicianAvg_OPAnnualReimbursementAmt',\n",
       " 'PerOperatingPhysicianAvg_OPAnnualDeductibleAmt',\n",
       " 'PerOperatingPhysicianAvg_AdmitForDays',\n",
       " 'PerAttendingPhysicianAvg_InscClaimAmtReimbursed',\n",
       " 'PerAttendingPhysicianAvg_DeductibleAmtPaid',\n",
       " 'PerAttendingPhysicianAvg_IPAnnualReimbursementAmt',\n",
       " 'PerAttendingPhysicianAvg_IPAnnualDeductibleAmt',\n",
       " 'PerAttendingPhysicianAvg_OPAnnualReimbursementAmt',\n",
       " 'PerAttendingPhysicianAvg_OPAnnualDeductibleAmt',\n",
       " 'PerAttendingPhysicianAvg_AdmitForDays',\n",
       " 'PerDiagnosisGroupCodeAvg_InscClaimAmtReimbursed',\n",
       " 'PerDiagnosisGroupCodeAvg_DeductibleAmtPaid',\n",
       " 'PerDiagnosisGroupCodeAvg_IPAnnualReimbursementAmt',\n",
       " 'PerDiagnosisGroupCodeAvg_IPAnnualDeductibleAmt',\n",
       " 'PerDiagnosisGroupCodeAvg_OPAnnualReimbursementAmt',\n",
       " 'PerDiagnosisGroupCodeAvg_OPAnnualDeductibleAmt',\n",
       " 'PerDiagnosisGroupCodeAvg_AdmitForDays',\n",
       " 'PerClmAdmitDiagnosisCodeAvg_InscClaimAmtReimbursed',\n",
       " 'PerClmAdmitDiagnosisCodeAvg_DeductibleAmtPaid',\n",
       " 'PerClmAdmitDiagnosisCodeAvg_IPAnnualReimbursementAmt',\n",
       " 'PerClmAdmitDiagnosisCodeAvg_IPAnnualDeductibleAmt',\n",
       " 'PerClmAdmitDiagnosisCodeAvg_OPAnnualReimbursementAmt',\n",
       " 'PerClmAdmitDiagnosisCodeAvg_OPAnnualDeductibleAmt',\n",
       " 'PerClmAdmitDiagnosisCodeAvg_AdmitForDays',\n",
       " 'PerClmProcedureCode_1Avg_InscClaimAmtReimbursed',\n",
       " 'PerClmProcedureCode_1Avg_DeductibleAmtPaid',\n",
       " 'PerClmProcedureCode_1Avg_IPAnnualReimbursementAmt',\n",
       " 'PerClmProcedureCode_1Avg_IPAnnualDeductibleAmt',\n",
       " 'PerClmProcedureCode_1Avg_OPAnnualReimbursementAmt',\n",
       " 'PerClmProcedureCode_1Avg_OPAnnualDeductibleAmt',\n",
       " 'PerClmProcedureCode_1Avg_AdmitForDays',\n",
       " 'PerClmProcedureCode_2Avg_InscClaimAmtReimbursed',\n",
       " 'PerClmProcedureCode_2Avg_DeductibleAmtPaid',\n",
       " 'PerClmProcedureCode_2Avg_IPAnnualReimbursementAmt',\n",
       " 'PerClmProcedureCode_2Avg_IPAnnualDeductibleAmt',\n",
       " 'PerClmProcedureCode_2Avg_OPAnnualReimbursementAmt',\n",
       " 'PerClmProcedureCode_2Avg_OPAnnualDeductibleAmt',\n",
       " 'PerClmProcedureCode_2Avg_AdmitForDays',\n",
       " 'PerClmProcedureCode_3Avg_InscClaimAmtReimbursed',\n",
       " 'PerClmProcedureCode_3Avg_DeductibleAmtPaid',\n",
       " 'PerClmProcedureCode_3Avg_IPAnnualReimbursementAmt',\n",
       " 'PerClmProcedureCode_3Avg_IPAnnualDeductibleAmt',\n",
       " 'PerClmProcedureCode_3Avg_OPAnnualReimbursementAmt',\n",
       " 'PerClmProcedureCode_3Avg_OPAnnualDeductibleAmt',\n",
       " 'PerClmProcedureCode_3Avg_AdmitForDays',\n",
       " 'PerClmDiagnosisCode_1Avg_InscClaimAmtReimbursed',\n",
       " 'PerClmDiagnosisCode_1Avg_DeductibleAmtPaid',\n",
       " 'PerClmDiagnosisCode_1Avg_IPAnnualReimbursementAmt',\n",
       " 'PerClmDiagnosisCode_1Avg_IPAnnualDeductibleAmt',\n",
       " 'PerClmDiagnosisCode_1Avg_OPAnnualReimbursementAmt',\n",
       " 'PerClmDiagnosisCode_1Avg_OPAnnualDeductibleAmt',\n",
       " 'PerClmDiagnosisCode_1Avg_AdmitForDays',\n",
       " 'PerClmDiagnosisCode_2Avg_InscClaimAmtReimbursed',\n",
       " 'PerClmDiagnosisCode_2Avg_DeductibleAmtPaid',\n",
       " 'PerClmDiagnosisCode_2Avg_IPAnnualReimbursementAmt',\n",
       " 'PerClmDiagnosisCode_2Avg_IPAnnualDeductibleAmt',\n",
       " 'PerClmDiagnosisCode_2Avg_OPAnnualReimbursementAmt',\n",
       " 'PerClmDiagnosisCode_2Avg_OPAnnualDeductibleAmt',\n",
       " 'PerClmDiagnosisCode_2Avg_AdmitForDays',\n",
       " 'PerClmDiagnosisCode_3Avg_InscClaimAmtReimbursed',\n",
       " 'PerClmDiagnosisCode_3Avg_DeductibleAmtPaid',\n",
       " 'PerClmDiagnosisCode_3Avg_IPAnnualReimbursementAmt',\n",
       " 'PerClmDiagnosisCode_3Avg_IPAnnualDeductibleAmt',\n",
       " 'PerClmDiagnosisCode_3Avg_OPAnnualReimbursementAmt',\n",
       " 'PerClmDiagnosisCode_3Avg_OPAnnualDeductibleAmt',\n",
       " 'PerClmDiagnosisCode_3Avg_AdmitForDays',\n",
       " 'PerClmDiagnosisCode_4Avg_InscClaimAmtReimbursed',\n",
       " 'PerClmDiagnosisCode_4Avg_DeductibleAmtPaid',\n",
       " 'PerClmDiagnosisCode_4Avg_IPAnnualReimbursementAmt',\n",
       " 'PerClmDiagnosisCode_4Avg_IPAnnualDeductibleAmt',\n",
       " 'PerClmDiagnosisCode_4Avg_OPAnnualReimbursementAmt',\n",
       " 'PerClmDiagnosisCode_4Avg_OPAnnualDeductibleAmt',\n",
       " 'PerClmDiagnosisCode_4Avg_AdmitForDays',\n",
       " 'ClmCount_Provider',\n",
       " 'ClmCount_Provider_BeneID',\n",
       " 'ClmCount_Provider_AttendingPhysician',\n",
       " 'ClmCount_Provider_OtherPhysician',\n",
       " 'ClmCount_Provider_OperatingPhysician',\n",
       " 'ClmCount_Provider_ClmAdmitDiagnosisCode',\n",
       " 'ClmCount_Provider_ClmProcedureCode_1',\n",
       " 'ClmCount_Provider_ClmProcedureCode_2',\n",
       " 'ClmCount_Provider_ClmProcedureCode_3',\n",
       " 'ClmCount_Provider_ClmProcedureCode_4',\n",
       " 'ClmCount_Provider_ClmProcedureCode_5',\n",
       " 'ClmCount_Provider_ClmDiagnosisCode_1',\n",
       " 'ClmCount_Provider_ClmDiagnosisCode_2',\n",
       " 'ClmCount_Provider_ClmDiagnosisCode_3',\n",
       " 'ClmCount_Provider_ClmDiagnosisCode_4',\n",
       " 'ClmCount_Provider_ClmDiagnosisCode_5',\n",
       " 'ClmCount_Provider_ClmDiagnosisCode_6',\n",
       " 'ClmCount_Provider_ClmDiagnosisCode_7',\n",
       " 'ClmCount_Provider_ClmDiagnosisCode_8',\n",
       " 'ClmCount_Provider_ClmDiagnosisCode_9',\n",
       " 'ClmCount_Provider_DiagnosisGroupCode',\n",
       " 'ClmCount_Provider_BeneID_AttendingPhysician',\n",
       " 'ClmCount_Provider_BeneID_OtherPhysician',\n",
       " 'ClmCount_Provider_BeneID_AttendingPhysician_ClmProcedureCode_1',\n",
       " 'ClmCount_Provider_BeneID_AttendingPhysician_ClmDiagnosisCode_1',\n",
       " 'ClmCount_Provider_BeneID_OperatingPhysician',\n",
       " 'ClmCount_Provider_BeneID_ClmProcedureCode_1',\n",
       " 'ClmCount_Provider_BeneID_ClmDiagnosisCode_1',\n",
       " 'ClmCount_Provider_BeneID_ClmDiagnosisCode_1_ClmProcedureCode_1',\n",
       " 'Gender_2',\n",
       " 'Race_2',\n",
       " 'Race_3',\n",
       " 'Race_5']"
      ]
     },
     "execution_count": 4,
     "metadata": {},
     "output_type": "execute_result"
    }
   ],
   "source": [
    "list(medicare_fraud1.columns)"
   ]
  },
  {
   "cell_type": "code",
   "execution_count": 5,
   "metadata": {},
   "outputs": [
    {
     "name": "stdout",
     "output_type": "stream",
     "text": [
      "<class 'pandas.core.frame.DataFrame'>\n",
      "RangeIndex: 5410 entries, 0 to 5409\n",
      "Columns: 158 entries, Provider to Race_5\n",
      "dtypes: float64(132), int64(25), object(1)\n",
      "memory usage: 6.5+ MB\n"
     ]
    }
   ],
   "source": [
    "medicare_fraud1.info()"
   ]
  },
  {
   "cell_type": "code",
   "execution_count": 5,
   "metadata": {},
   "outputs": [
    {
     "data": {
      "text/plain": [
       "array([0, 1, 0, ..., 0, 0, 0])"
      ]
     },
     "execution_count": 5,
     "metadata": {},
     "output_type": "execute_result"
    }
   ],
   "source": [
    "y=medicare_fraud1.PotentialFraud.values\n",
    "y"
   ]
  },
  {
   "cell_type": "code",
   "execution_count": 6,
   "metadata": {},
   "outputs": [],
   "source": [
    "medicare_fraud1.drop([\"Provider\",\"PotentialFraud\"],axis=1,inplace=True)"
   ]
  },
  {
   "cell_type": "code",
   "execution_count": 7,
   "metadata": {},
   "outputs": [
    {
     "data": {
      "text/plain": [
       "array([[1.0464e+05, 5.3400e+03, 3.0000e+01, ..., 4.0000e+00, 0.0000e+00,\n",
       "        0.0000e+00],\n",
       "       [6.0567e+05, 6.6286e+04, 3.8200e+02, ..., 2.4000e+01, 0.0000e+00,\n",
       "        1.0000e+00],\n",
       "       [5.2170e+04, 3.1000e+02, 0.0000e+00, ..., 2.4000e+01, 5.0000e+00,\n",
       "        0.0000e+00],\n",
       "       ...,\n",
       "       [1.8470e+04, 3.7000e+02, 0.0000e+00, ..., 7.0000e+00, 1.0000e+00,\n",
       "        4.0000e+00],\n",
       "       [1.9000e+03, 0.0000e+00, 0.0000e+00, ..., 0.0000e+00, 0.0000e+00,\n",
       "        0.0000e+00],\n",
       "       [4.3610e+04, 3.9000e+02, 0.0000e+00, ..., 1.6000e+01, 4.0000e+00,\n",
       "        0.0000e+00]])"
      ]
     },
     "execution_count": 7,
     "metadata": {},
     "output_type": "execute_result"
    }
   ],
   "source": [
    "x=medicare_fraud1.values\n",
    "x"
   ]
  },
  {
   "cell_type": "code",
   "execution_count": 8,
   "metadata": {},
   "outputs": [],
   "source": [
    "from sklearn.preprocessing import StandardScaler,MinMaxScaler\n",
    "scaler=StandardScaler()"
   ]
  },
  {
   "cell_type": "code",
   "execution_count": 9,
   "metadata": {},
   "outputs": [
    {
     "data": {
      "text/plain": [
       "array([[ 0.00657567, -0.10988379, -0.12425395, ..., -0.21888877,\n",
       "        -0.17022483, -0.19598378],\n",
       "       [ 1.87113809,  2.3355533 ,  2.07755202, ...,  0.47769256,\n",
       "        -0.17022483, -0.10628223],\n",
       "       [-0.18868926, -0.31171079, -0.31190787, ...,  0.47769256,\n",
       "         0.06333245, -0.19598378],\n",
       "       ...,\n",
       "       [-0.31410242, -0.30930331, -0.31190787, ..., -0.11440157,\n",
       "        -0.12351338,  0.16282239],\n",
       "       [-0.37576699, -0.32414943, -0.31190787, ..., -0.35820504,\n",
       "        -0.17022483, -0.19598378],\n",
       "       [-0.22054495, -0.30850082, -0.31190787, ...,  0.19906003,\n",
       "         0.01662099, -0.19598378]])"
      ]
     },
     "execution_count": 9,
     "metadata": {},
     "output_type": "execute_result"
    }
   ],
   "source": [
    "x=scaler.fit_transform(x)\n",
    "x"
   ]
  },
  {
   "cell_type": "code",
   "execution_count": 10,
   "metadata": {},
   "outputs": [],
   "source": [
    "from sklearn.model_selection import train_test_split\n",
    "\n",
    "## 'stratify=y' will make sure equal distribution of yes:no in both train and validation\n",
    "\n",
    "X_train,X_test,y_train,y_test = train_test_split(x,y,test_size=0.3,random_state=101,stratify=y,shuffle=True)"
   ]
  },
  {
   "cell_type": "code",
   "execution_count": 11,
   "metadata": {},
   "outputs": [
    {
     "name": "stdout",
     "output_type": "stream",
     "text": [
      "X_train : (3787, 156)\n",
      "y_train : (3787,)\n",
      "X_test : (1623, 156)\n",
      "y_test : (1623,)\n"
     ]
    }
   ],
   "source": [
    "print('X_train :',X_train.shape)\n",
    "print('y_train :',y_train.shape)\n",
    "\n",
    "print('X_test :',X_test.shape)\n",
    "print('y_test :',y_test.shape)"
   ]
  },
  {
   "cell_type": "markdown",
   "metadata": {},
   "source": [
    "# BUILDING LOGISTIC REGRESSION MACHINE LEARNING MODEL"
   ]
  },
  {
   "cell_type": "code",
   "execution_count": 23,
   "metadata": {},
   "outputs": [
    {
     "data": {
      "text/plain": [
       "LogisticRegressionCV(class_weight='balanced', cv=10, random_state=123)"
      ]
     },
     "execution_count": 23,
     "metadata": {},
     "output_type": "execute_result"
    }
   ],
   "source": [
    "import warnings     # for supressing a warning when importing large files\n",
    "warnings.filterwarnings(\"ignore\")\n",
    "\n",
    "\n",
    "from sklearn.linear_model import LogisticRegressionCV\n",
    "\n",
    "log = LogisticRegressionCV(cv=10,class_weight='balanced',random_state=123)    \n",
    "\n",
    "# The \"balanced\" mode uses the values of y to automatically adjust weights inversely proportional to class frequencies\n",
    "#in the input data as ``n_samples / (n_classes * np.bincount(y))``.\n",
    "\n",
    "log.fit(X_train,y_train)"
   ]
  },
  {
   "cell_type": "code",
   "execution_count": 13,
   "metadata": {},
   "outputs": [
    {
     "name": "stdout",
     "output_type": "stream",
     "text": [
      "0.9139160285186163\n",
      "0.9032655576093653\n"
     ]
    }
   ],
   "source": [
    "print(log.score(X_train,y_train))\n",
    "print(log.score(X_test,y_test))"
   ]
  },
  {
   "cell_type": "code",
   "execution_count": 15,
   "metadata": {},
   "outputs": [
    {
     "data": {
      "text/plain": [
       "'\\nfrom sklearn.model_selection import cross_val_score,KFold\\n\\nkfold=KFold(n_splits=12,random_state=0)\\n\\nscore=cross_val_score(model,x,y,cv=kfold,scoring=\"accuracy\")\\n\\nscore.mean()\\n'"
      ]
     },
     "execution_count": 15,
     "metadata": {},
     "output_type": "execute_result"
    }
   ],
   "source": [
    "\"\"\"\n",
    "from sklearn.model_selection import cross_val_score,KFold\n",
    "\n",
    "kfold=KFold(n_splits=12,random_state=0)\n",
    "\n",
    "score=cross_val_score(model,x,y,cv=kfold,scoring=\"accuracy\")\n",
    "\n",
    "score.mean()\n",
    "\"\"\""
   ]
  },
  {
   "cell_type": "code",
   "execution_count": 26,
   "metadata": {},
   "outputs": [
    {
     "name": "stdout",
     "output_type": "stream",
     "text": [
      "231\n",
      "1392\n"
     ]
    }
   ],
   "source": [
    "y_predict=log.predict(X_test)\n",
    "a = list(y_predict)\n",
    "print(a.count(1))\n",
    "print(a.count(0))"
   ]
  },
  {
   "cell_type": "code",
   "execution_count": 25,
   "metadata": {},
   "outputs": [
    {
     "name": "stdout",
     "output_type": "stream",
     "text": [
      "152\n",
      "1471\n"
     ]
    }
   ],
   "source": [
    "y_test#actual\n",
    "b = list(y_test)\n",
    "print(b.count(1))\n",
    "print(b.count(0))"
   ]
  },
  {
   "cell_type": "code",
   "execution_count": 18,
   "metadata": {},
   "outputs": [
    {
     "name": "stdout",
     "output_type": "stream",
     "text": [
      "True          0    1\n",
      "Predicted           \n",
      "0          1353   39\n",
      "1           118  113\n"
     ]
    }
   ],
   "source": [
    "from sklearn.metrics import confusion_matrix, classification_report\n",
    "\n",
    "cm_df = pd.DataFrame(confusion_matrix(y_test, y_predict).T, index=log.classes_,columns=log.classes_)\n",
    "cm_df.index.name = 'Predicted'\n",
    "cm_df.columns.name = 'True'\n",
    "print(cm_df)"
   ]
  },
  {
   "cell_type": "code",
   "execution_count": 19,
   "metadata": {},
   "outputs": [
    {
     "name": "stdout",
     "output_type": "stream",
     "text": [
      "              precision    recall  f1-score   support\n",
      "\n",
      "           0       0.97      0.92      0.95      1471\n",
      "           1       0.49      0.74      0.59       152\n",
      "\n",
      "    accuracy                           0.90      1623\n",
      "   macro avg       0.73      0.83      0.77      1623\n",
      "weighted avg       0.93      0.90      0.91      1623\n",
      "\n"
     ]
    }
   ],
   "source": [
    "print(classification_report(y_test, y_predict))"
   ]
  },
  {
   "cell_type": "code",
   "execution_count": 20,
   "metadata": {},
   "outputs": [
    {
     "name": "stdout",
     "output_type": "stream",
     "text": [
      "ROC AUC: 0.83\n"
     ]
    },
    {
     "data": {
      "image/png": "[encoded data removed]",
      "text/plain": [
       "<Figure size 1080x720 with 1 Axes>"
      ]
     },
     "metadata": {
      "needs_background": "light"
     },
     "output_type": "display_data"
    }
   ],
   "source": [
    "import matplotlib.pyplot as plt\n",
    "from sklearn.metrics import roc_curve, auc, roc_auc_score\n",
    "fpr, tpr, _ = roc_curve(y_test, y_predict)\n",
    "# Calculate the AUC\n",
    "roc_auc = auc(fpr, tpr)\n",
    "print('ROC AUC: %0.2f' % roc_auc)\n",
    "# Plot of a ROC curve for a specific class\n",
    "plt.figure(figsize=(15,10))\n",
    "plt.plot(fpr, tpr, label='ROC curve (area = %0.2f)' % roc_auc)\n",
    "plt.plot([0, 1], [0, 1], 'o--')\n",
    "plt.xlim([0.0, 1.0])\n",
    "plt.ylim([0.0, 1.05])\n",
    "plt.xlabel('False Positive Rate')\n",
    "plt.ylabel('True Positive Rate')\n",
    "plt.title('ROC Curve')\n",
    "plt.legend(loc=\"lower right\")\n",
    "plt.show()"
   ]
  },
  {
   "cell_type": "markdown",
   "metadata": {},
   "source": [
    "# BUILDING MACHINE LEARNING MODEL USING SUPPORT VECTOR MACHINE CLASSIFIER"
   ]
  },
  {
   "cell_type": "code",
   "execution_count": 29,
   "metadata": {},
   "outputs": [],
   "source": [
    "from sklearn.svm import SVC\n",
    "svc=SVC()"
   ]
  },
  {
   "cell_type": "code",
   "execution_count": 30,
   "metadata": {},
   "outputs": [
    {
     "data": {
      "text/plain": [
       "SVC()"
      ]
     },
     "execution_count": 30,
     "metadata": {},
     "output_type": "execute_result"
    }
   ],
   "source": [
    "svc.fit(X_train,y_train)"
   ]
  },
  {
   "cell_type": "code",
   "execution_count": 31,
   "metadata": {},
   "outputs": [
    {
     "data": {
      "text/plain": [
       "0.9387377871666227"
      ]
     },
     "execution_count": 31,
     "metadata": {},
     "output_type": "execute_result"
    }
   ],
   "source": [
    "svc.score(X_train,y_train)"
   ]
  },
  {
   "cell_type": "code",
   "execution_count": 32,
   "metadata": {},
   "outputs": [
    {
     "data": {
      "text/plain": [
       "0.9359211337030191"
      ]
     },
     "execution_count": 32,
     "metadata": {},
     "output_type": "execute_result"
    }
   ],
   "source": [
    "svc.score(X_test,y_test)"
   ]
  },
  {
   "cell_type": "code",
   "execution_count": 25,
   "metadata": {},
   "outputs": [
    {
     "data": {
      "text/plain": [
       "'\\nfrom sklearn.model_selection import cross_val_score,KFold\\n\\nkfold=KFold(n_splits=12,random_state=0)\\n\\nscore=cross_val_score(model,x,y,cv=kfold,scoring=\"accuracy\")\\n\\nscore.mean()\\n'"
      ]
     },
     "execution_count": 25,
     "metadata": {},
     "output_type": "execute_result"
    }
   ],
   "source": [
    "\"\"\"\n",
    "from sklearn.model_selection import cross_val_score,KFold\n",
    "\n",
    "kfold=KFold(n_splits=12,random_state=0)\n",
    "\n",
    "score=cross_val_score(model,x,y,cv=kfold,scoring=\"accuracy\")\n",
    "\n",
    "score.mean()\n",
    "\"\"\""
   ]
  },
  {
   "cell_type": "code",
   "execution_count": 33,
   "metadata": {},
   "outputs": [
    {
     "name": "stdout",
     "output_type": "stream",
     "text": [
      "72\n",
      "1551\n"
     ]
    }
   ],
   "source": [
    "y_pred=svc.predict(X_test)\n",
    "a1 = list(y_pred)\n",
    "print(a1.count(1))\n",
    "print(a1.count(0))"
   ]
  },
  {
   "cell_type": "code",
   "execution_count": 34,
   "metadata": {},
   "outputs": [
    {
     "name": "stdout",
     "output_type": "stream",
     "text": [
      "152\n",
      "1471\n"
     ]
    }
   ],
   "source": [
    "y_test\n",
    "b1 = list(y_test)\n",
    "print(b1.count(1))\n",
    "print(b1.count(0))"
   ]
  },
  {
   "cell_type": "code",
   "execution_count": 28,
   "metadata": {},
   "outputs": [
    {
     "name": "stdout",
     "output_type": "stream",
     "text": [
      "True          0   1\n",
      "Predicted          \n",
      "0          1459  92\n",
      "1            12  60\n"
     ]
    }
   ],
   "source": [
    "from sklearn.metrics import confusion_matrix, classification_report\n",
    "\n",
    "cm_df = pd.DataFrame(confusion_matrix(y_test, y_pred).T, index=svc.classes_,columns=svc.classes_)\n",
    "cm_df.index.name = 'Predicted'\n",
    "cm_df.columns.name = 'True'\n",
    "print(cm_df)"
   ]
  },
  {
   "cell_type": "code",
   "execution_count": 29,
   "metadata": {},
   "outputs": [
    {
     "name": "stdout",
     "output_type": "stream",
     "text": [
      "              precision    recall  f1-score   support\n",
      "\n",
      "           0       0.94      0.99      0.97      1471\n",
      "           1       0.83      0.39      0.54       152\n",
      "\n",
      "    accuracy                           0.94      1623\n",
      "   macro avg       0.89      0.69      0.75      1623\n",
      "weighted avg       0.93      0.94      0.93      1623\n",
      "\n"
     ]
    }
   ],
   "source": [
    "print(classification_report(y_test, y_pred))"
   ]
  },
  {
   "cell_type": "code",
   "execution_count": 30,
   "metadata": {},
   "outputs": [
    {
     "name": "stdout",
     "output_type": "stream",
     "text": [
      "ROC AUC: 0.69\n"
     ]
    },
    {
     "data": {
      "image/png": "[encoded data removed]",
      "text/plain": [
       "<Figure size 1080x720 with 1 Axes>"
      ]
     },
     "metadata": {
      "needs_background": "light"
     },
     "output_type": "display_data"
    }
   ],
   "source": [
    "from sklearn.metrics import roc_curve, auc, roc_auc_score\n",
    "fpr, tpr, _ = roc_curve(y_test, y_pred)\n",
    "# Calculate the AUC\n",
    "roc_auc = auc(fpr, tpr)\n",
    "print('ROC AUC: %0.2f' % roc_auc)\n",
    "# Plot of a ROC curve for a specific class\n",
    "plt.figure(figsize=(15,10))\n",
    "plt.plot(fpr, tpr, label='ROC curve (area = %0.2f)' % roc_auc)\n",
    "plt.plot([0, 1], [0, 1], 'o--')\n",
    "plt.xlim([0.0, 1.0])\n",
    "plt.ylim([0.0, 1.05])\n",
    "plt.xlabel('False Positive Rate')\n",
    "plt.ylabel('True Positive Rate')\n",
    "plt.title('ROC Curve')\n",
    "plt.legend(loc=\"lower right\")\n",
    "plt.show()"
   ]
  },
  {
   "cell_type": "markdown",
   "metadata": {},
   "source": [
    "# WORKING ON TEST DATA"
   ]
  },
  {
   "cell_type": "code",
   "execution_count": 31,
   "metadata": {},
   "outputs": [],
   "source": [
    "test_fraud=pd.read_csv(\"TEST.csv\")"
   ]
  },
  {
   "cell_type": "code",
   "execution_count": 32,
   "metadata": {},
   "outputs": [
    {
     "data": {
      "text/html": [
       "<div>\n",
       "<style scoped>\n",
       "    .dataframe tbody tr th:only-of-type {\n",
       "        vertical-align: middle;\n",
       "    }\n",
       "\n",
       "    .dataframe tbody tr th {\n",
       "        vertical-align: top;\n",
       "    }\n",
       "\n",
       "    .dataframe thead th {\n",
       "        text-align: right;\n",
       "    }\n",
       "</style>\n",
       "<table border=\"1\" class=\"dataframe\">\n",
       "  <thead>\n",
       "    <tr style=\"text-align: right;\">\n",
       "      <th></th>\n",
       "      <th>Provider</th>\n",
       "      <th>InscClaimAmtReimbursed</th>\n",
       "      <th>DeductibleAmtPaid</th>\n",
       "      <th>AdmitForDays</th>\n",
       "      <th>NoOfMonths_PartACov</th>\n",
       "      <th>NoOfMonths_PartBCov</th>\n",
       "      <th>ChronicCond_Alzheimer</th>\n",
       "      <th>ChronicCond_Heartfailure</th>\n",
       "      <th>ChronicCond_KidneyDisease</th>\n",
       "      <th>ChronicCond_Cancer</th>\n",
       "      <th>...</th>\n",
       "      <th>ClmCount_Provider_BeneID_AttendingPhysician_ClmProcedureCode_1</th>\n",
       "      <th>ClmCount_Provider_BeneID_AttendingPhysician_ClmDiagnosisCode_1</th>\n",
       "      <th>ClmCount_Provider_BeneID_OperatingPhysician</th>\n",
       "      <th>ClmCount_Provider_BeneID_ClmProcedureCode_1</th>\n",
       "      <th>ClmCount_Provider_BeneID_ClmDiagnosisCode_1</th>\n",
       "      <th>ClmCount_Provider_BeneID_ClmDiagnosisCode_1_ClmProcedureCode_1</th>\n",
       "      <th>Gender_2</th>\n",
       "      <th>Race_2</th>\n",
       "      <th>Race_3</th>\n",
       "      <th>Race_5</th>\n",
       "    </tr>\n",
       "  </thead>\n",
       "  <tbody>\n",
       "    <tr>\n",
       "      <th>0</th>\n",
       "      <td>PRV51002</td>\n",
       "      <td>53790</td>\n",
       "      <td>380.0</td>\n",
       "      <td>0.0</td>\n",
       "      <td>2424</td>\n",
       "      <td>2460</td>\n",
       "      <td>79</td>\n",
       "      <td>108</td>\n",
       "      <td>72</td>\n",
       "      <td>25</td>\n",
       "      <td>...</td>\n",
       "      <td>0.0</td>\n",
       "      <td>202.0</td>\n",
       "      <td>30.0</td>\n",
       "      <td>0.0</td>\n",
       "      <td>204.0</td>\n",
       "      <td>0.0</td>\n",
       "      <td>134.0</td>\n",
       "      <td>30.0</td>\n",
       "      <td>2.0</td>\n",
       "      <td>4.0</td>\n",
       "    </tr>\n",
       "    <tr>\n",
       "      <th>1</th>\n",
       "      <td>PRV51006</td>\n",
       "      <td>30720</td>\n",
       "      <td>0.0</td>\n",
       "      <td>0.0</td>\n",
       "      <td>1224</td>\n",
       "      <td>1224</td>\n",
       "      <td>35</td>\n",
       "      <td>69</td>\n",
       "      <td>50</td>\n",
       "      <td>15</td>\n",
       "      <td>...</td>\n",
       "      <td>0.0</td>\n",
       "      <td>99.0</td>\n",
       "      <td>26.0</td>\n",
       "      <td>0.0</td>\n",
       "      <td>99.0</td>\n",
       "      <td>0.0</td>\n",
       "      <td>59.0</td>\n",
       "      <td>26.0</td>\n",
       "      <td>0.0</td>\n",
       "      <td>0.0</td>\n",
       "    </tr>\n",
       "    <tr>\n",
       "      <th>2</th>\n",
       "      <td>PRV51009</td>\n",
       "      <td>27230</td>\n",
       "      <td>1238.0</td>\n",
       "      <td>8.0</td>\n",
       "      <td>468</td>\n",
       "      <td>468</td>\n",
       "      <td>8</td>\n",
       "      <td>17</td>\n",
       "      <td>19</td>\n",
       "      <td>1</td>\n",
       "      <td>...</td>\n",
       "      <td>2.0</td>\n",
       "      <td>40.0</td>\n",
       "      <td>24.0</td>\n",
       "      <td>2.0</td>\n",
       "      <td>41.0</td>\n",
       "      <td>2.0</td>\n",
       "      <td>23.0</td>\n",
       "      <td>6.0</td>\n",
       "      <td>0.0</td>\n",
       "      <td>0.0</td>\n",
       "    </tr>\n",
       "    <tr>\n",
       "      <th>3</th>\n",
       "      <td>PRV51010</td>\n",
       "      <td>64580</td>\n",
       "      <td>5340.0</td>\n",
       "      <td>29.0</td>\n",
       "      <td>444</td>\n",
       "      <td>444</td>\n",
       "      <td>21</td>\n",
       "      <td>23</td>\n",
       "      <td>19</td>\n",
       "      <td>7</td>\n",
       "      <td>...</td>\n",
       "      <td>3.0</td>\n",
       "      <td>38.0</td>\n",
       "      <td>9.0</td>\n",
       "      <td>3.0</td>\n",
       "      <td>38.0</td>\n",
       "      <td>3.0</td>\n",
       "      <td>15.0</td>\n",
       "      <td>1.0</td>\n",
       "      <td>0.0</td>\n",
       "      <td>0.0</td>\n",
       "    </tr>\n",
       "    <tr>\n",
       "      <th>4</th>\n",
       "      <td>PRV51018</td>\n",
       "      <td>61620</td>\n",
       "      <td>670.0</td>\n",
       "      <td>0.0</td>\n",
       "      <td>2232</td>\n",
       "      <td>2276</td>\n",
       "      <td>73</td>\n",
       "      <td>109</td>\n",
       "      <td>93</td>\n",
       "      <td>25</td>\n",
       "      <td>...</td>\n",
       "      <td>0.0</td>\n",
       "      <td>188.0</td>\n",
       "      <td>30.0</td>\n",
       "      <td>0.0</td>\n",
       "      <td>188.0</td>\n",
       "      <td>0.0</td>\n",
       "      <td>124.0</td>\n",
       "      <td>45.0</td>\n",
       "      <td>0.0</td>\n",
       "      <td>0.0</td>\n",
       "    </tr>\n",
       "  </tbody>\n",
       "</table>\n",
       "<p>5 rows × 157 columns</p>\n",
       "</div>"
      ],
      "text/plain": [
       "   Provider  InscClaimAmtReimbursed  DeductibleAmtPaid  AdmitForDays  \\\n",
       "0  PRV51002                   53790              380.0           0.0   \n",
       "1  PRV51006                   30720                0.0           0.0   \n",
       "2  PRV51009                   27230             1238.0           8.0   \n",
       "3  PRV51010                   64580             5340.0          29.0   \n",
       "4  PRV51018                   61620              670.0           0.0   \n",
       "\n",
       "   NoOfMonths_PartACov  NoOfMonths_PartBCov  ChronicCond_Alzheimer  \\\n",
       "0                 2424                 2460                     79   \n",
       "1                 1224                 1224                     35   \n",
       "2                  468                  468                      8   \n",
       "3                  444                  444                     21   \n",
       "4                 2232                 2276                     73   \n",
       "\n",
       "   ChronicCond_Heartfailure  ChronicCond_KidneyDisease  ChronicCond_Cancer  \\\n",
       "0                       108                         72                  25   \n",
       "1                        69                         50                  15   \n",
       "2                        17                         19                   1   \n",
       "3                        23                         19                   7   \n",
       "4                       109                         93                  25   \n",
       "\n",
       "   ...  ClmCount_Provider_BeneID_AttendingPhysician_ClmProcedureCode_1  \\\n",
       "0  ...                                                0.0                \n",
       "1  ...                                                0.0                \n",
       "2  ...                                                2.0                \n",
       "3  ...                                                3.0                \n",
       "4  ...                                                0.0                \n",
       "\n",
       "   ClmCount_Provider_BeneID_AttendingPhysician_ClmDiagnosisCode_1  \\\n",
       "0                                              202.0                \n",
       "1                                               99.0                \n",
       "2                                               40.0                \n",
       "3                                               38.0                \n",
       "4                                              188.0                \n",
       "\n",
       "   ClmCount_Provider_BeneID_OperatingPhysician  \\\n",
       "0                                         30.0   \n",
       "1                                         26.0   \n",
       "2                                         24.0   \n",
       "3                                          9.0   \n",
       "4                                         30.0   \n",
       "\n",
       "   ClmCount_Provider_BeneID_ClmProcedureCode_1  \\\n",
       "0                                          0.0   \n",
       "1                                          0.0   \n",
       "2                                          2.0   \n",
       "3                                          3.0   \n",
       "4                                          0.0   \n",
       "\n",
       "   ClmCount_Provider_BeneID_ClmDiagnosisCode_1  \\\n",
       "0                                        204.0   \n",
       "1                                         99.0   \n",
       "2                                         41.0   \n",
       "3                                         38.0   \n",
       "4                                        188.0   \n",
       "\n",
       "   ClmCount_Provider_BeneID_ClmDiagnosisCode_1_ClmProcedureCode_1  Gender_2  \\\n",
       "0                                                0.0                  134.0   \n",
       "1                                                0.0                   59.0   \n",
       "2                                                2.0                   23.0   \n",
       "3                                                3.0                   15.0   \n",
       "4                                                0.0                  124.0   \n",
       "\n",
       "   Race_2  Race_3  Race_5  \n",
       "0    30.0     2.0     4.0  \n",
       "1    26.0     0.0     0.0  \n",
       "2     6.0     0.0     0.0  \n",
       "3     1.0     0.0     0.0  \n",
       "4    45.0     0.0     0.0  \n",
       "\n",
       "[5 rows x 157 columns]"
      ]
     },
     "execution_count": 32,
     "metadata": {},
     "output_type": "execute_result"
    }
   ],
   "source": [
    "test_fraud.head()"
   ]
  },
  {
   "cell_type": "code",
   "execution_count": 33,
   "metadata": {},
   "outputs": [],
   "source": [
    "Provider=test_fraud.Provider"
   ]
  },
  {
   "cell_type": "code",
   "execution_count": 34,
   "metadata": {},
   "outputs": [],
   "source": [
    "test_fraud.drop([\"Provider\"],axis=1,inplace=True)"
   ]
  },
  {
   "cell_type": "code",
   "execution_count": 35,
   "metadata": {},
   "outputs": [
    {
     "data": {
      "text/plain": [
       "[True,\n",
       " True,\n",
       " True,\n",
       " True,\n",
       " True,\n",
       " True,\n",
       " True,\n",
       " True,\n",
       " True,\n",
       " True,\n",
       " True,\n",
       " True,\n",
       " True,\n",
       " True,\n",
       " True,\n",
       " True,\n",
       " True,\n",
       " True,\n",
       " True,\n",
       " True,\n",
       " True,\n",
       " True,\n",
       " True,\n",
       " True,\n",
       " True,\n",
       " True,\n",
       " True,\n",
       " True,\n",
       " True,\n",
       " True,\n",
       " True,\n",
       " True,\n",
       " True,\n",
       " True,\n",
       " True,\n",
       " True,\n",
       " True,\n",
       " True,\n",
       " True,\n",
       " True,\n",
       " True,\n",
       " True,\n",
       " True,\n",
       " True,\n",
       " True,\n",
       " True,\n",
       " True,\n",
       " True,\n",
       " True,\n",
       " True,\n",
       " True,\n",
       " True,\n",
       " True,\n",
       " True,\n",
       " True,\n",
       " True,\n",
       " True,\n",
       " True,\n",
       " True,\n",
       " True,\n",
       " True,\n",
       " True,\n",
       " True,\n",
       " True,\n",
       " True,\n",
       " True,\n",
       " True,\n",
       " True,\n",
       " True,\n",
       " True,\n",
       " True,\n",
       " True,\n",
       " True,\n",
       " True,\n",
       " True,\n",
       " True,\n",
       " True,\n",
       " True,\n",
       " True,\n",
       " True,\n",
       " True,\n",
       " True,\n",
       " True,\n",
       " True,\n",
       " True,\n",
       " True,\n",
       " True,\n",
       " True,\n",
       " True,\n",
       " True,\n",
       " True,\n",
       " True,\n",
       " True,\n",
       " True,\n",
       " True,\n",
       " True,\n",
       " True,\n",
       " True,\n",
       " True,\n",
       " True,\n",
       " True,\n",
       " True,\n",
       " True,\n",
       " True,\n",
       " True,\n",
       " True,\n",
       " True,\n",
       " True,\n",
       " True,\n",
       " True,\n",
       " True,\n",
       " True,\n",
       " True,\n",
       " True,\n",
       " True,\n",
       " True,\n",
       " True,\n",
       " True,\n",
       " True,\n",
       " True,\n",
       " True,\n",
       " True,\n",
       " True,\n",
       " True,\n",
       " True,\n",
       " True,\n",
       " True,\n",
       " True,\n",
       " True,\n",
       " True,\n",
       " True,\n",
       " True,\n",
       " True,\n",
       " True,\n",
       " True,\n",
       " True,\n",
       " True,\n",
       " True,\n",
       " True,\n",
       " True,\n",
       " True,\n",
       " True,\n",
       " True,\n",
       " True,\n",
       " True,\n",
       " True,\n",
       " True,\n",
       " True,\n",
       " True,\n",
       " True,\n",
       " True,\n",
       " True,\n",
       " True,\n",
       " True,\n",
       " True,\n",
       " True]"
      ]
     },
     "execution_count": 35,
     "metadata": {},
     "output_type": "execute_result"
    }
   ],
   "source": [
    "list((medicare_fraud1.columns==test_fraud.columns))"
   ]
  },
  {
   "cell_type": "code",
   "execution_count": 36,
   "metadata": {},
   "outputs": [
    {
     "data": {
      "text/plain": [
       "array([ True,  True,  True,  True,  True,  True,  True,  True,  True,\n",
       "        True,  True,  True,  True,  True,  True,  True,  True,  True,\n",
       "        True,  True,  True,  True,  True,  True,  True,  True,  True,\n",
       "        True,  True,  True,  True,  True,  True,  True,  True,  True,\n",
       "        True,  True,  True,  True,  True,  True,  True,  True,  True,\n",
       "        True,  True,  True,  True,  True,  True,  True,  True,  True,\n",
       "        True,  True,  True,  True,  True,  True,  True,  True,  True,\n",
       "        True,  True,  True,  True,  True,  True,  True,  True,  True,\n",
       "        True,  True,  True,  True,  True,  True,  True,  True,  True,\n",
       "        True,  True,  True,  True,  True,  True,  True,  True,  True,\n",
       "        True,  True,  True,  True,  True,  True,  True,  True,  True,\n",
       "        True,  True,  True,  True,  True,  True,  True,  True,  True,\n",
       "        True,  True,  True,  True,  True,  True,  True,  True,  True,\n",
       "        True,  True,  True,  True,  True,  True,  True,  True,  True,\n",
       "        True,  True,  True,  True,  True,  True,  True,  True,  True,\n",
       "        True,  True,  True,  True,  True,  True,  True,  True,  True,\n",
       "        True,  True,  True,  True,  True,  True,  True,  True,  True,\n",
       "        True,  True,  True])"
      ]
     },
     "execution_count": 36,
     "metadata": {},
     "output_type": "execute_result"
    }
   ],
   "source": [
    "\n",
    "(medicare_fraud1.columns==test_fraud.columns)\n",
    "\n"
   ]
  },
  {
   "cell_type": "code",
   "execution_count": 37,
   "metadata": {},
   "outputs": [
    {
     "data": {
      "text/plain": [
       "array([ True])"
      ]
     },
     "execution_count": 37,
     "metadata": {},
     "output_type": "execute_result"
    }
   ],
   "source": [
    "np.unique((medicare_fraud1.columns==test_fraud.columns))\n",
    "\n"
   ]
  },
  {
   "cell_type": "code",
   "execution_count": 38,
   "metadata": {},
   "outputs": [
    {
     "data": {
      "text/plain": [
       "True    156\n",
       "dtype: int64"
      ]
     },
     "execution_count": 38,
     "metadata": {},
     "output_type": "execute_result"
    }
   ],
   "source": [
    "pd.value_counts(list((medicare_fraud1.columns==test_fraud.columns)))"
   ]
  },
  {
   "cell_type": "markdown",
   "metadata": {},
   "source": [
    "# TEST DATA PREDICTION OF FRAUD USING SUPPORT VECTOR ML MODEL BUILD ON TRAIN DATA"
   ]
  },
  {
   "cell_type": "code",
   "execution_count": 39,
   "metadata": {},
   "outputs": [],
   "source": [
    "submission_predict=svc.predict(test_fraud)"
   ]
  },
  {
   "cell_type": "code",
   "execution_count": 40,
   "metadata": {},
   "outputs": [],
   "source": [
    "submission=pd.DataFrame(data = {'Provider':Provider,'PotentialFraud':submission_predict})\n",
    "submission[\"PotentialFraud\"]=submission[\"PotentialFraud\"].map({0: \"N\", 1: \"Y\"})"
   ]
  },
  {
   "cell_type": "code",
   "execution_count": 41,
   "metadata": {},
   "outputs": [],
   "source": [
    "submission.to_csv('Sample_Submission.csv',index = False)"
   ]
  },
  {
   "cell_type": "code",
   "execution_count": 42,
   "metadata": {},
   "outputs": [
    {
     "data": {
      "text/html": [
       "<div>\n",
       "<style scoped>\n",
       "    .dataframe tbody tr th:only-of-type {\n",
       "        vertical-align: middle;\n",
       "    }\n",
       "\n",
       "    .dataframe tbody tr th {\n",
       "        vertical-align: top;\n",
       "    }\n",
       "\n",
       "    .dataframe thead th {\n",
       "        text-align: right;\n",
       "    }\n",
       "</style>\n",
       "<table border=\"1\" class=\"dataframe\">\n",
       "  <thead>\n",
       "    <tr style=\"text-align: right;\">\n",
       "      <th></th>\n",
       "      <th>Provider</th>\n",
       "      <th>PotentialFraud</th>\n",
       "    </tr>\n",
       "  </thead>\n",
       "  <tbody>\n",
       "    <tr>\n",
       "      <th>0</th>\n",
       "      <td>PRV51002</td>\n",
       "      <td>Y</td>\n",
       "    </tr>\n",
       "    <tr>\n",
       "      <th>1</th>\n",
       "      <td>PRV51006</td>\n",
       "      <td>Y</td>\n",
       "    </tr>\n",
       "    <tr>\n",
       "      <th>2</th>\n",
       "      <td>PRV51009</td>\n",
       "      <td>Y</td>\n",
       "    </tr>\n",
       "    <tr>\n",
       "      <th>3</th>\n",
       "      <td>PRV51010</td>\n",
       "      <td>Y</td>\n",
       "    </tr>\n",
       "    <tr>\n",
       "      <th>4</th>\n",
       "      <td>PRV51018</td>\n",
       "      <td>Y</td>\n",
       "    </tr>\n",
       "  </tbody>\n",
       "</table>\n",
       "</div>"
      ],
      "text/plain": [
       "   Provider PotentialFraud\n",
       "0  PRV51002              Y\n",
       "1  PRV51006              Y\n",
       "2  PRV51009              Y\n",
       "3  PRV51010              Y\n",
       "4  PRV51018              Y"
      ]
     },
     "execution_count": 42,
     "metadata": {},
     "output_type": "execute_result"
    }
   ],
   "source": [
    "medicare_fraud_submission=pd.read_csv(\"Sample_Submission.csv\")\n",
    "medicare_fraud_submission.head()"
   ]
  },
  {
   "cell_type": "code",
   "execution_count": null,
   "metadata": {},
   "outputs": [],
   "source": []
  }
 ],
 "metadata": {
  "kernelspec": {
   "display_name": "Python 3",
   "language": "python",
   "name": "python3"
  },
  "language_info": {
   "codemirror_mode": {
    "name": "ipython",
    "version": 3
   },
   "file_extension": ".py",
   "mimetype": "text/x-python",
   "name": "python",
   "nbconvert_exporter": "python",
   "pygments_lexer": "ipython3",
   "version": "3.8.5"
  }
 },
 "nbformat": 4,
 "nbformat_minor": 2
}
